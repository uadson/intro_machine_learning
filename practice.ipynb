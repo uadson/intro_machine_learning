{
 "cells": [
  {
   "cell_type": "code",
   "execution_count": 1,
   "metadata": {},
   "outputs": [],
   "source": [
    "from random import randint, choice\n",
    "from functools import reduce"
   ]
  },
  {
   "cell_type": "code",
   "execution_count": 62,
   "metadata": {},
   "outputs": [],
   "source": [
    "# Carros\n",
    "# Utilizando somente dados numéricos por enquanto\n",
    "\n",
    "# lista das grandezas\n",
    "# Valor Base:\n",
    "ano = 2010\n",
    "motor = 1.0\n",
    "valor = 10999\n",
    "VB = [ano, motor]\n",
    "\n",
    "# Valores aleatórios dos motores e anos\n",
    "#m = [1.0, 1.6, 1.8, 2.0]\n",
    "#y = randint(2010, 2020)\n",
    "#mt = choice(m)\n",
    "#VA = [y, mt]\n",
    "\n",
    "# Função create_dict()\n",
    "# o valor de X (carro) será obtido através de uma regra de três composta;\n",
    "# no caso aqui vamos considerar que as grandezas são diretamente proporcionais.\n",
    "# após calcular o valor de x, será criado um dicionário com estes novos dados.\n",
    "# Quantidade de dados inseridos no dicionário:\n",
    "\n",
    "def reg_three_comp(VB, VA, valor):\n",
    "    \n",
    "    a = reduce(lambda x, y: x * y, VB)\n",
    "    b = reduce(lambda x, y: x * y, VA)\n",
    "    \n",
    "    X = (valor * b) / a\n",
    "    \n",
    "    return X\n",
    "\n",
    "\n",
    "def create_dict(qtde):\n",
    "    \n",
    "    years = []\n",
    "    motors = []\n",
    "    val = []\n",
    "    auto = {}\n",
    "    \n",
    "    for i in range(0, qtde):\n",
    "        \n",
    "        m = [1.0, 1.6, 1.8, 2.0]\n",
    "        y = randint(2010, 2020)\n",
    "        mt = choice(m)\n",
    "        \n",
    "        VA = [y, mt]\n",
    "        \n",
    "        x = round(reg_three_comp(VB, VA, valor))\n",
    "        \n",
    "        years.append(y)\n",
    "        motors.append(mt)\n",
    "        val.append(x)\n",
    "        \n",
    "        auto['ano'] = years\n",
    "        auto['motor'] = motors\n",
    "        auto['valor'] = val\n",
    "        \n",
    "    return auto"
   ]
  },
  {
   "cell_type": "code",
   "execution_count": 63,
   "metadata": {},
   "outputs": [
    {
     "name": "stdin",
     "output_type": "stream",
     "text": [
      "Quantidade de dados a serem lançados:  10000\n"
     ]
    }
   ],
   "source": [
    "qtde = int(input('Quantidade de dados a serem lançados: '))"
   ]
  },
  {
   "cell_type": "code",
   "execution_count": 65,
   "metadata": {},
   "outputs": [],
   "source": [
    "resultado = create_dict(qtde)"
   ]
  },
  {
   "cell_type": "code",
   "execution_count": 66,
   "metadata": {},
   "outputs": [
    {
     "data": {
      "text/plain": [
       "dict"
      ]
     },
     "execution_count": 66,
     "metadata": {},
     "output_type": "execute_result"
    }
   ],
   "source": [
    "type(resultado)"
   ]
  },
  {
   "cell_type": "code",
   "execution_count": 67,
   "metadata": {},
   "outputs": [],
   "source": [
    "# importando biblioteca Pandas para manipulação destes dados\n",
    "import pandas as pd"
   ]
  },
  {
   "cell_type": "code",
   "execution_count": 68,
   "metadata": {},
   "outputs": [],
   "source": [
    "# criando um dataframe\n",
    "data = pd.DataFrame(resultado)"
   ]
  },
  {
   "cell_type": "code",
   "execution_count": 69,
   "metadata": {},
   "outputs": [
    {
     "data": {
      "text/plain": [
       "pandas.core.frame.DataFrame"
      ]
     },
     "execution_count": 69,
     "metadata": {},
     "output_type": "execute_result"
    }
   ],
   "source": [
    "# tipo de dado\n",
    "type(data)"
   ]
  },
  {
   "cell_type": "code",
   "execution_count": 70,
   "metadata": {},
   "outputs": [
    {
     "data": {
      "text/html": [
       "<div>\n",
       "<style scoped>\n",
       "    .dataframe tbody tr th:only-of-type {\n",
       "        vertical-align: middle;\n",
       "    }\n",
       "\n",
       "    .dataframe tbody tr th {\n",
       "        vertical-align: top;\n",
       "    }\n",
       "\n",
       "    .dataframe thead th {\n",
       "        text-align: right;\n",
       "    }\n",
       "</style>\n",
       "<table border=\"1\" class=\"dataframe\">\n",
       "  <thead>\n",
       "    <tr style=\"text-align: right;\">\n",
       "      <th></th>\n",
       "      <th>ano</th>\n",
       "      <th>motor</th>\n",
       "      <th>valor</th>\n",
       "    </tr>\n",
       "  </thead>\n",
       "  <tbody>\n",
       "    <tr>\n",
       "      <th>0</th>\n",
       "      <td>2020</td>\n",
       "      <td>2.0</td>\n",
       "      <td>22107</td>\n",
       "    </tr>\n",
       "    <tr>\n",
       "      <th>1</th>\n",
       "      <td>2014</td>\n",
       "      <td>2.0</td>\n",
       "      <td>22042</td>\n",
       "    </tr>\n",
       "    <tr>\n",
       "      <th>2</th>\n",
       "      <td>2016</td>\n",
       "      <td>1.6</td>\n",
       "      <td>17651</td>\n",
       "    </tr>\n",
       "    <tr>\n",
       "      <th>3</th>\n",
       "      <td>2015</td>\n",
       "      <td>2.0</td>\n",
       "      <td>22053</td>\n",
       "    </tr>\n",
       "    <tr>\n",
       "      <th>4</th>\n",
       "      <td>2017</td>\n",
       "      <td>1.6</td>\n",
       "      <td>17660</td>\n",
       "    </tr>\n",
       "  </tbody>\n",
       "</table>\n",
       "</div>"
      ],
      "text/plain": [
       "    ano  motor  valor\n",
       "0  2020    2.0  22107\n",
       "1  2014    2.0  22042\n",
       "2  2016    1.6  17651\n",
       "3  2015    2.0  22053\n",
       "4  2017    1.6  17660"
      ]
     },
     "execution_count": 70,
     "metadata": {},
     "output_type": "execute_result"
    }
   ],
   "source": [
    "# imprimindo o dataframe\n",
    "data.head()"
   ]
  },
  {
   "cell_type": "code",
   "execution_count": 61,
   "metadata": {},
   "outputs": [
    {
     "name": "stdout",
     "output_type": "stream",
     "text": [
      "<class 'pandas.core.frame.DataFrame'>\n",
      "RangeIndex: 10000 entries, 0 to 9999\n",
      "Data columns (total 3 columns):\n",
      " #   Column  Non-Null Count  Dtype  \n",
      "---  ------  --------------  -----  \n",
      " 0   ano     10000 non-null  int64  \n",
      " 1   motor   10000 non-null  float64\n",
      " 2   valor   10000 non-null  int64  \n",
      "dtypes: float64(1), int64(2)\n",
      "memory usage: 234.5 KB\n"
     ]
    }
   ],
   "source": [
    "data.info()"
   ]
  },
  {
   "cell_type": "code",
   "execution_count": null,
   "metadata": {},
   "outputs": [],
   "source": []
  }
 ],
 "metadata": {
  "kernelspec": {
   "display_name": "Python 3",
   "language": "python",
   "name": "python3"
  },
  "language_info": {
   "codemirror_mode": {
    "name": "ipython",
    "version": 3
   },
   "file_extension": ".py",
   "mimetype": "text/x-python",
   "name": "python",
   "nbconvert_exporter": "python",
   "pygments_lexer": "ipython3",
   "version": "3.8.3"
  }
 },
 "nbformat": 4,
 "nbformat_minor": 4
}
