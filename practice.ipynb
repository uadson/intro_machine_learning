{
 "cells": [
  {
   "cell_type": "code",
   "execution_count": 3,
   "metadata": {},
   "outputs": [],
   "source": [
    "from random import randint, uniform"
   ]
  },
  {
   "cell_type": "code",
   "execution_count": 66,
   "metadata": {},
   "outputs": [],
   "source": [
    "# Carros\n",
    "# Utilizando somente dados númericos por enquanto\n",
    "\n",
    "# Lista de itens inerentes a qualidade de um carro comum\n",
    "\n",
    "ano = []\n",
    "motor = []\n",
    "vl_venda = []\n",
    "comb = []\n",
    "camb = []\n",
    "\n",
    "# Vamos fazer um database com uma quantidade de 10 carros\n",
    "\n",
    "for i in range(0, 10):\n",
    "    a = randint(2010, 2020)\n",
    "    \n",
    "    ano.append(a)\n",
    "    \n",
    "    m = uniform(1.0, 2.0)\n",
    "    m = round(m, 1)\n",
    "    \n",
    "    motor.append(m)\n",
    "    \n",
    "    co = randint(0, 1)\n",
    "    \n",
    "    comb.append(co)\n",
    "    \n",
    "    ca = randint(0, 1)\n",
    "    \n",
    "    camb.append(ca)\n",
    "    \n",
    "    if a >= 2010 and a <= 2012 or m <= 1.3:\n",
    "        vl = randint(10000, 20000)\n",
    "        vl_venda.append(vl)\n",
    "        \n",
    "    elif a >= 2013 and a <= 2015 or m > 1.3 and m <= 1.6:\n",
    "        vl = randint(21000, 30000)\n",
    "        vl_venda.append(vl)\n",
    "        \n",
    "    elif a >= 2016 and a <= 2018 or m > 1.6 and m <= 1.8:\n",
    "        vl = randint(31000, 40000)\n",
    "        vl_venda.append(vl)\n",
    "        \n",
    "    elif a >= 2019 and a <= 2020 or m >= 1.8:\n",
    "        vl = randint(41000, 50000)\n",
    "        vl_venda.append(vl)\n",
    "\n",
    "        \n",
    "# criando um dataset\n",
    "\n",
    "data = {\n",
    "    'ano': ano,\n",
    "    'motor': motor,\n",
    "    'combustivel: E=0/G=1': comb,\n",
    "    'cambio: A=0/M=1': camb,\n",
    "    'valor_venda': vl_venda\n",
    "}"
   ]
  },
  {
   "cell_type": "code",
   "execution_count": 67,
   "metadata": {},
   "outputs": [
    {
     "data": {
      "text/plain": [
       "dict"
      ]
     },
     "execution_count": 67,
     "metadata": {},
     "output_type": "execute_result"
    }
   ],
   "source": [
    "# verificando o tipo de dado\n",
    "type(data)"
   ]
  },
  {
   "cell_type": "code",
   "execution_count": 68,
   "metadata": {},
   "outputs": [
    {
     "name": "stdout",
     "output_type": "stream",
     "text": [
      "ano [2012, 2011, 2016, 2018, 2010, 2010, 2018, 2010, 2016, 2017]\n",
      "motor [1.3, 1.3, 2.0, 1.5, 1.1, 1.1, 1.2, 1.2, 1.9, 1.2]\n",
      "combustivel: E=0/G=1 [0, 1, 1, 1, 1, 1, 1, 1, 1, 0]\n",
      "cambio: A=0/M=1 [0, 0, 0, 0, 0, 0, 1, 0, 1, 1]\n",
      "valor_venda [15795, 14025, 32869, 28061, 10220, 12643, 16985, 15424, 35678, 17226]\n"
     ]
    }
   ],
   "source": [
    "for k, v in data.items():\n",
    "    print(k, v)"
   ]
  },
  {
   "cell_type": "code",
   "execution_count": 49,
   "metadata": {},
   "outputs": [],
   "source": [
    "# importando biblioteca Pandas para manipulação destes dados\n",
    "import pandas as pd"
   ]
  },
  {
   "cell_type": "code",
   "execution_count": 70,
   "metadata": {},
   "outputs": [],
   "source": [
    "# criando um dataframe\n",
    "df = pd.DataFrame(data)"
   ]
  },
  {
   "cell_type": "code",
   "execution_count": 71,
   "metadata": {},
   "outputs": [
    {
     "data": {
      "text/plain": [
       "pandas.core.frame.DataFrame"
      ]
     },
     "execution_count": 71,
     "metadata": {},
     "output_type": "execute_result"
    }
   ],
   "source": [
    "# tipo de dado\n",
    "type(df)"
   ]
  },
  {
   "cell_type": "code",
   "execution_count": 72,
   "metadata": {},
   "outputs": [
    {
     "data": {
      "text/html": [
       "<div>\n",
       "<style scoped>\n",
       "    .dataframe tbody tr th:only-of-type {\n",
       "        vertical-align: middle;\n",
       "    }\n",
       "\n",
       "    .dataframe tbody tr th {\n",
       "        vertical-align: top;\n",
       "    }\n",
       "\n",
       "    .dataframe thead th {\n",
       "        text-align: right;\n",
       "    }\n",
       "</style>\n",
       "<table border=\"1\" class=\"dataframe\">\n",
       "  <thead>\n",
       "    <tr style=\"text-align: right;\">\n",
       "      <th></th>\n",
       "      <th>ano</th>\n",
       "      <th>motor</th>\n",
       "      <th>combustivel: E=0/G=1</th>\n",
       "      <th>cambio: A=0/M=1</th>\n",
       "      <th>valor_venda</th>\n",
       "    </tr>\n",
       "  </thead>\n",
       "  <tbody>\n",
       "    <tr>\n",
       "      <th>0</th>\n",
       "      <td>2012</td>\n",
       "      <td>1.3</td>\n",
       "      <td>0</td>\n",
       "      <td>0</td>\n",
       "      <td>15795</td>\n",
       "    </tr>\n",
       "    <tr>\n",
       "      <th>1</th>\n",
       "      <td>2011</td>\n",
       "      <td>1.3</td>\n",
       "      <td>1</td>\n",
       "      <td>0</td>\n",
       "      <td>14025</td>\n",
       "    </tr>\n",
       "    <tr>\n",
       "      <th>2</th>\n",
       "      <td>2016</td>\n",
       "      <td>2.0</td>\n",
       "      <td>1</td>\n",
       "      <td>0</td>\n",
       "      <td>32869</td>\n",
       "    </tr>\n",
       "    <tr>\n",
       "      <th>3</th>\n",
       "      <td>2018</td>\n",
       "      <td>1.5</td>\n",
       "      <td>1</td>\n",
       "      <td>0</td>\n",
       "      <td>28061</td>\n",
       "    </tr>\n",
       "    <tr>\n",
       "      <th>4</th>\n",
       "      <td>2010</td>\n",
       "      <td>1.1</td>\n",
       "      <td>1</td>\n",
       "      <td>0</td>\n",
       "      <td>10220</td>\n",
       "    </tr>\n",
       "    <tr>\n",
       "      <th>5</th>\n",
       "      <td>2010</td>\n",
       "      <td>1.1</td>\n",
       "      <td>1</td>\n",
       "      <td>0</td>\n",
       "      <td>12643</td>\n",
       "    </tr>\n",
       "    <tr>\n",
       "      <th>6</th>\n",
       "      <td>2018</td>\n",
       "      <td>1.2</td>\n",
       "      <td>1</td>\n",
       "      <td>1</td>\n",
       "      <td>16985</td>\n",
       "    </tr>\n",
       "    <tr>\n",
       "      <th>7</th>\n",
       "      <td>2010</td>\n",
       "      <td>1.2</td>\n",
       "      <td>1</td>\n",
       "      <td>0</td>\n",
       "      <td>15424</td>\n",
       "    </tr>\n",
       "    <tr>\n",
       "      <th>8</th>\n",
       "      <td>2016</td>\n",
       "      <td>1.9</td>\n",
       "      <td>1</td>\n",
       "      <td>1</td>\n",
       "      <td>35678</td>\n",
       "    </tr>\n",
       "    <tr>\n",
       "      <th>9</th>\n",
       "      <td>2017</td>\n",
       "      <td>1.2</td>\n",
       "      <td>0</td>\n",
       "      <td>1</td>\n",
       "      <td>17226</td>\n",
       "    </tr>\n",
       "  </tbody>\n",
       "</table>\n",
       "</div>"
      ],
      "text/plain": [
       "    ano  motor  combustivel: E=0/G=1  cambio: A=0/M=1  valor_venda\n",
       "0  2012    1.3                     0                0        15795\n",
       "1  2011    1.3                     1                0        14025\n",
       "2  2016    2.0                     1                0        32869\n",
       "3  2018    1.5                     1                0        28061\n",
       "4  2010    1.1                     1                0        10220\n",
       "5  2010    1.1                     1                0        12643\n",
       "6  2018    1.2                     1                1        16985\n",
       "7  2010    1.2                     1                0        15424\n",
       "8  2016    1.9                     1                1        35678\n",
       "9  2017    1.2                     0                1        17226"
      ]
     },
     "execution_count": 72,
     "metadata": {},
     "output_type": "execute_result"
    }
   ],
   "source": [
    "# imprimindo o dataframe\n",
    "df"
   ]
  },
  {
   "cell_type": "markdown",
   "metadata": {},
   "source": []
  },
  {
   "cell_type": "code",
   "execution_count": null,
   "metadata": {},
   "outputs": [],
   "source": []
  }
 ],
 "metadata": {
  "kernelspec": {
   "display_name": "Python 3",
   "language": "python",
   "name": "python3"
  },
  "language_info": {
   "codemirror_mode": {
    "name": "ipython",
    "version": 3
   },
   "file_extension": ".py",
   "mimetype": "text/x-python",
   "name": "python",
   "nbconvert_exporter": "python",
   "pygments_lexer": "ipython3",
   "version": "3.8.1"
  }
 },
 "nbformat": 4,
 "nbformat_minor": 4
}
