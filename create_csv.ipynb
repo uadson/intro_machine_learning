{
 "cells": [
  {
   "cell_type": "code",
   "execution_count": 34,
   "metadata": {},
   "outputs": [],
   "source": [
    "import pandas as pd\n",
    "from random import randint, choice\n",
    "from functools import reduce"
   ]
  },
  {
   "cell_type": "code",
   "execution_count": 35,
   "metadata": {},
   "outputs": [],
   "source": [
    "# Carros\n",
    "# Utilizando somente dados numéricos por enquanto\n",
    "\n",
    "# lista das grandezas\n",
    "# Valor Base:\n",
    "ano = 2010\n",
    "motor = 1.0\n",
    "valor = 10999\n",
    "VB = [ano, motor]\n",
    "\n",
    "# Valores aleatórios dos motores e anos\n",
    "#m = [1.0, 1.6, 1.8, 2.0]\n",
    "#y = randint(2010, 2020)\n",
    "#mt = choice(m)\n",
    "#VA = [y, mt]\n",
    "\n",
    "# Função create_dict()\n",
    "# o valor de X (carro) será obtido através de uma regra de três composta;\n",
    "# no caso aqui vamos considerar que as grandezas são diretamente proporcionais.\n",
    "# após calcular o valor de x, será criado um dicionário com estes novos dados.\n",
    "# Quantidade de dados inseridos no dicionário:\n",
    "\n",
    "def reg_three_comp(VB, VA, valor):\n",
    "    \n",
    "    a = reduce(lambda x, y: x * y, VB)\n",
    "    b = reduce(lambda x, y: x * y, VA)\n",
    "    \n",
    "    X = (valor * b) / a\n",
    "    \n",
    "    return X\n",
    "\n",
    "\n",
    "def create_dict(reg):\n",
    "    \n",
    "    years = []\n",
    "    motors = []\n",
    "    val = []\n",
    "    auto = {}\n",
    "    \n",
    "    for i in range(0, reg):\n",
    "        \n",
    "        m = [1.0, 1.6, 1.8, 2.0]\n",
    "        y = randint(2010, 2020)\n",
    "        mt = choice(m)\n",
    "        \n",
    "        VA = [y, mt]\n",
    "        \n",
    "        x = round(reg_three_comp(VB, VA, valor))\n",
    "        \n",
    "        years.append(y)\n",
    "        motors.append(mt)\n",
    "        val.append(x)\n",
    "        \n",
    "        auto['ano'] = years\n",
    "        auto['motor'] = motors\n",
    "        auto['valor'] = val\n",
    "        \n",
    "    return auto"
   ]
  },
  {
   "cell_type": "code",
   "execution_count": 36,
   "metadata": {},
   "outputs": [],
   "source": [
    "reg = 10000"
   ]
  },
  {
   "cell_type": "code",
   "execution_count": 37,
   "metadata": {},
   "outputs": [],
   "source": [
    "registros = create_dict(reg)"
   ]
  },
  {
   "cell_type": "code",
   "execution_count": 38,
   "metadata": {},
   "outputs": [
    {
     "data": {
      "text/plain": [
       "dict"
      ]
     },
     "execution_count": 38,
     "metadata": {},
     "output_type": "execute_result"
    }
   ],
   "source": [
    "type(registros)"
   ]
  },
  {
   "cell_type": "code",
   "execution_count": 39,
   "metadata": {},
   "outputs": [],
   "source": [
    "data = pd.DataFrame(registros)"
   ]
  },
  {
   "cell_type": "code",
   "execution_count": 40,
   "metadata": {},
   "outputs": [
    {
     "data": {
      "text/plain": [
       "pandas.core.frame.DataFrame"
      ]
     },
     "execution_count": 40,
     "metadata": {},
     "output_type": "execute_result"
    }
   ],
   "source": [
    "type(data)"
   ]
  },
  {
   "cell_type": "code",
   "execution_count": 33,
   "metadata": {},
   "outputs": [
    {
     "data": {
      "text/html": [
       "<div>\n",
       "<style scoped>\n",
       "    .dataframe tbody tr th:only-of-type {\n",
       "        vertical-align: middle;\n",
       "    }\n",
       "\n",
       "    .dataframe tbody tr th {\n",
       "        vertical-align: top;\n",
       "    }\n",
       "\n",
       "    .dataframe thead th {\n",
       "        text-align: right;\n",
       "    }\n",
       "</style>\n",
       "<table border=\"1\" class=\"dataframe\">\n",
       "  <thead>\n",
       "    <tr style=\"text-align: right;\">\n",
       "      <th></th>\n",
       "      <th>ano</th>\n",
       "      <th>motor</th>\n",
       "      <th>valor</th>\n",
       "    </tr>\n",
       "  </thead>\n",
       "  <tbody>\n",
       "    <tr>\n",
       "      <th>0</th>\n",
       "      <td>2013</td>\n",
       "      <td>2.0</td>\n",
       "      <td>22031</td>\n",
       "    </tr>\n",
       "    <tr>\n",
       "      <th>1</th>\n",
       "      <td>2016</td>\n",
       "      <td>2.0</td>\n",
       "      <td>22064</td>\n",
       "    </tr>\n",
       "    <tr>\n",
       "      <th>2</th>\n",
       "      <td>2011</td>\n",
       "      <td>2.0</td>\n",
       "      <td>22009</td>\n",
       "    </tr>\n",
       "    <tr>\n",
       "      <th>3</th>\n",
       "      <td>2012</td>\n",
       "      <td>1.6</td>\n",
       "      <td>17616</td>\n",
       "    </tr>\n",
       "    <tr>\n",
       "      <th>4</th>\n",
       "      <td>2017</td>\n",
       "      <td>2.0</td>\n",
       "      <td>22075</td>\n",
       "    </tr>\n",
       "  </tbody>\n",
       "</table>\n",
       "</div>"
      ],
      "text/plain": [
       "    ano  motor  valor\n",
       "0  2013    2.0  22031\n",
       "1  2016    2.0  22064\n",
       "2  2011    2.0  22009\n",
       "3  2012    1.6  17616\n",
       "4  2017    2.0  22075"
      ]
     },
     "execution_count": 33,
     "metadata": {},
     "output_type": "execute_result"
    }
   ],
   "source": [
    "data.head()"
   ]
  },
  {
   "cell_type": "code",
   "execution_count": 44,
   "metadata": {},
   "outputs": [],
   "source": [
    "data.to_csv('dados/car_values.csv', encoding='utf-8')"
   ]
  }
 ],
 "metadata": {
  "kernelspec": {
   "display_name": "Python 3",
   "language": "python",
   "name": "python3"
  },
  "language_info": {
   "codemirror_mode": {
    "name": "ipython",
    "version": 3
   },
   "file_extension": ".py",
   "mimetype": "text/x-python",
   "name": "python",
   "nbconvert_exporter": "python",
   "pygments_lexer": "ipython3",
   "version": "3.8.3"
  }
 },
 "nbformat": 4,
 "nbformat_minor": 4
}
